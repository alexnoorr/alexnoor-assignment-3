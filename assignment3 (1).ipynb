{
  "cells": [
    {
      "cell_type": "markdown",
      "id": "245217cc",
      "metadata": {
        "id": "245217cc"
      },
      "source": [
        "# Assignment: SVD Preprocessing on MNIST with Logistic Regression"
      ]
    },
    {
      "cell_type": "markdown",
      "id": "deffa444",
      "metadata": {
        "id": "deffa444"
      },
      "source": [
        "## Instructions:\n",
        "In this assignment, you will apply **Singular Value Decomposition (SVD)** as a preprocessing step to the **MNIST dataset** and train a **logistic regression classifier**. You will compare the model performance and training time when using different levels of SVD for dimensionality reduction.\n",
        "\n",
        "In this assignment, you will need to:\n",
        "1. Load the MNIST dataset and normalize it.\n",
        "2. Perform SVD and reduce the dimensions of the data.\n",
        "3. Train a logistic regression model on the original and SVD-reduced data.\n",
        "4. Measure and compare the training time and accuracy of the model with varying SVD components.\n",
        "5. Plot the results and analyze how SVD impacts the performance and efficiency of the model.\n",
        "\n",
        "***\n",
        "Your tasks include:\n",
        "1. Implement SVD algorithm. You are not allowed to directly use SVD implemented by other packages, but you may use functions in NumPy. (Part 2)\n",
        "2. Explore the accuracy and time performance from different numbers of SVD components. (Part 4)\n",
        "3. Visualize the accuracy, time performance and top 5 singular vectors in the dataset, analyze and explain which number of SVD component looks best to you? (Part 4,5&6) Hint: singular vectors should be reshaped to 28x28 images for visualization.\n",
        "***\n",
        "**Note that you may not import any other function or package.** Let's get started!\n"
      ]
    },
    {
      "cell_type": "markdown",
      "id": "b3e10cb3",
      "metadata": {
        "id": "b3e10cb3"
      },
      "source": [
        "## Part 1: Load the MNIST dataset and preprocess the data"
      ]
    },
    {
      "cell_type": "code",
      "execution_count": null,
      "id": "79f2d907",
      "metadata": {
        "id": "79f2d907"
      },
      "outputs": [],
      "source": [
        "import numpy as np\n",
        "import matplotlib.pyplot as plt\n",
        "import time\n",
        "from sklearn.linear_model import LogisticRegression\n",
        "from sklearn.model_selection import train_test_split\n",
        "from sklearn.datasets import fetch_openml\n",
        "from sklearn.metrics import accuracy_score, classification_report\n",
        "\n",
        "# Load MNIST dataset\n",
        "print(\"Loading MNIST dataset...\")\n",
        "mnist = fetch_openml('mnist_784', version=1)\n",
        "X = mnist.data\n",
        "y = mnist.target\n",
        "\n",
        "# Normalize the data\n",
        "X = X / 255.0\n",
        "\n",
        "# Split into training and test sets\n",
        "X_train, X_test, y_train, y_test = train_test_split(X, y, test_size=0.2, random_state=42)\n"
      ]
    },
    {
      "cell_type": "markdown",
      "id": "28b8572d",
      "metadata": {
        "id": "28b8572d"
      },
      "source": [
        "## Part 2: Implement SVD for Dimensionality Reduction"
      ]
    },
    {
      "cell_type": "code",
      "execution_count": null,
      "id": "b3bd59f3",
      "metadata": {
        "id": "b3bd59f3"
      },
      "outputs": [],
      "source": [
        "import numpy as np\n",
        "\n",
        "def apply_svd_custom(X_train, X_test, n_components):\n",
        "    cov_matrix = np.dot(X_train.T, X_train)\n",
        "\n",
        "    eigenvalues, eigenvectors = np.linalg.eigh(cov_matrix)\n",
        "\n",
        "    sorted_indices = np.argsort(eigenvalues)[::-1]\n",
        "    sorted_eigenvectors = eigenvectors[:, sorted_indices]\n",
        "\n",
        "    W = sorted_eigenvectors[:, :n_components]\n",
        "\n",
        "    X_train_svd = np.dot(X_train, W)\n",
        "\n",
        "    return X_train_svd, np.dot(X_test, W)"
      ]
    },
    {
      "cell_type": "markdown",
      "id": "eb2a7a9d",
      "metadata": {
        "id": "eb2a7a9d"
      },
      "source": [
        "## Part 3: Train Logistic Regression and Measure Performance"
      ]
    },
    {
      "cell_type": "code",
      "execution_count": null,
      "id": "dbfc0b10",
      "metadata": {
        "id": "dbfc0b10"
      },
      "outputs": [],
      "source": [
        "# Function to train logistic regression and track training time\n",
        "def train_logistic_regression(X_train, y_train, X_test, y_test):\n",
        "    model = LogisticRegression(max_iter=1000, solver='saga', random_state=42, multi_class='multinomial')\n",
        "\n",
        "    # Measure training time\n",
        "    start_time = time.time()\n",
        "    model.fit(X_train, y_train)\n",
        "    training_time = time.time() - start_time\n",
        "\n",
        "    y_pred = model.predict(X_test)\n",
        "    accuracy = accuracy_score(y_test, y_pred)\n",
        "\n",
        "    return accuracy, training_time\n"
      ]
    },
    {
      "cell_type": "markdown",
      "id": "2e557a05",
      "metadata": {
        "id": "2e557a05"
      },
      "source": [
        "## Part 4: Experiment with Different Levels of SVD\n",
        "\n",
        "Now, apply SVD with varying numbers of components and observe how the dimensionality reduction impacts the model's performance. Record both the accuracy and training time for each number of components.\n"
      ]
    },
    {
      "cell_type": "code",
      "execution_count": null,
      "id": "3a460725",
      "metadata": {
        "id": "3a460725",
        "colab": {
          "base_uri": "https://localhost:8080/"
        },
        "outputId": "1aa5ece9-0b16-4bd4-9502-d771278100db"
      },
      "outputs": [
        {
          "metadata": {
            "tags": null
          },
          "name": "stdout",
          "output_type": "stream",
          "text": [
            "Training models with different levels of SVD preprocessing...\n",
            "Applying custom SVD with 784 components...\n"
          ]
        },
        {
          "metadata": {
            "tags": null
          },
          "name": "stderr",
          "output_type": "stream",
          "text": [
            "/usr/local/lib/python3.10/dist-packages/sklearn/linear_model/_logistic.py:1247: FutureWarning: 'multi_class' was deprecated in version 1.5 and will be removed in 1.7. From then on, it will always use 'multinomial'. Leave it to its default value to avoid this warning.\n",
            "  warnings.warn(\n"
          ]
        },
        {
          "output_type": "stream",
          "name": "stdout",
          "text": [
            "SVD components: 784, Accuracy: 0.9209, Training time: 843.6117 seconds\n",
            "Applying custom SVD with 500 components...\n"
          ]
        },
        {
          "output_type": "stream",
          "name": "stderr",
          "text": [
            "/usr/local/lib/python3.10/dist-packages/sklearn/linear_model/_logistic.py:1247: FutureWarning: 'multi_class' was deprecated in version 1.5 and will be removed in 1.7. From then on, it will always use 'multinomial'. Leave it to its default value to avoid this warning.\n",
            "  warnings.warn(\n"
          ]
        }
      ],
      "source": [
        "svd_components = [784, 500, 300, 100, 50]  # You need to decide what number to search...\n",
        "\n",
        "# Store the results\n",
        "results = []\n",
        "\n",
        "print(\"Training models with different levels of SVD preprocessing...\")\n",
        "for n_components in svd_components:\n",
        "    print(f\"Applying custom SVD with {n_components} components...\")\n",
        "\n",
        "    # Apply SVD to the training and test sets\n",
        "    # Call apply_svd_custom() here...\n",
        "\n",
        "    X_train_svd, X_test_svd = apply_svd_custom(X_train, X_test, n_components)\n",
        "\n",
        "\n",
        "    # Train the logistic regression model and get accuracy and training time\n",
        "    accuracy, training_time = train_logistic_regression(X_train_svd, y_train, X_test_svd, y_test)\n",
        "\n",
        "    results.append((n_components, accuracy, training_time))\n",
        "\n",
        "    print(f\"SVD components: {n_components}, Accuracy: {accuracy:.4f}, Training time: {training_time:.4f} seconds\")\n"
      ]
    },
    {
      "cell_type": "markdown",
      "id": "ea7aca12",
      "metadata": {
        "id": "ea7aca12"
      },
      "source": [
        "## Part 5: Visualize and Analyze the Results\n",
        "\n",
        "Finally, plot the accuracy, training time as a function of the number of SVD components, and top 5 singular vectors. This will help you understand the trade-off between dimensionality reduction, accuracy, and model training time, and how SVD generally works. Hint: singular vectors should be reshaped to 28x28 images for visualization.\n"
      ]
    },
    {
      "cell_type": "code",
      "execution_count": null,
      "id": "92ef0497",
      "metadata": {
        "id": "92ef0497"
      },
      "outputs": [],
      "source": [
        "## Your implementation here...\n",
        "## You may add necessary lines in Part 4 to access data for visualization\n",
        "\n",
        "components, accuracies, training_times = zip(*results)\n",
        "\n",
        "plt.figure(figsize=(12, 5))\n",
        "\n",
        "# Plot accuracy\n",
        "# Extract the top 5 singular vectors correctly from the original data\n",
        "# Note: The top 5 singular vectors correspond to the columns of W matrix used in apply_svd_custom()\n",
        "\n",
        "cov_matrix = np.dot(X_train.T, X_train)\n",
        "eigenvalues, eigenvectors = np.linalg.eigh(cov_matrix)\n",
        "sorted_indices = np.argsort(eigenvalues)[::-1]\n",
        "sorted_eigenvectors = eigenvectors[:, sorted_indices]\n",
        "top_5_vectors = sorted_eigenvectors[:, :5]  # Get the top 5 eigenvectors, each of size 784\n",
        "\n",
        "# Visualize the top 5 singular vectors\n",
        "plt.figure(figsize=(10, 2))\n",
        "for i in range(5):\n",
        "    plt.subplot(1, 5, i + 1)\n",
        "    plt.imshow(top_5_vectors[:, i].reshape(28, 28), cmap='gray')\n",
        "    plt.axis('off')\n",
        "    plt.title(f\"Vector {i+1}\")\n",
        "plt.suptitle(\"Top 5 Singular Vectors\")\n",
        "plt.show()"
      ]
    },
    {
      "cell_type": "markdown",
      "id": "4210569a",
      "metadata": {
        "id": "4210569a"
      },
      "source": [
        "## Part 6: Analyze / Conclusion\n",
        "\n",
        "YOUR ANSWER:"
      ]
    },
    {
      "cell_type": "markdown",
      "source": [
        "Higher numbers of components (closer to the original 784 dimensions) are expected to have higher accuracy because more information is preserved.\n",
        "\n",
        "Training time is significantly lower when fewer components are used.\n",
        "\n",
        "300 components is likely the best to use because it is the most practical."
      ],
      "metadata": {
        "id": "hZVsMIdVmiXb"
      },
      "id": "hZVsMIdVmiXb"
    }
  ],
  "metadata": {
    "kernelspec": {
      "display_name": "Python 3",
      "language": "python",
      "name": "python3"
    },
    "language_info": {
      "codemirror_mode": {
        "name": "ipython",
        "version": 3
      },
      "file_extension": ".py",
      "mimetype": "text/x-python",
      "name": "python",
      "nbconvert_exporter": "python",
      "pygments_lexer": "ipython3",
      "version": "3.8.10"
    },
    "colab": {
      "provenance": []
    }
  },
  "nbformat": 4,
  "nbformat_minor": 5
}